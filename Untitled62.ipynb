{
 "cells": [
  {
   "cell_type": "code",
   "execution_count": 1,
   "id": "0565f6f5",
   "metadata": {},
   "outputs": [
    {
     "name": "stdout",
     "output_type": "stream",
     "text": [
      "Requirement already satisfied: gym in c:\\users\\19144\\anaconda4\\lib\\site-packages (0.26.2)\n",
      "Requirement already satisfied: importlib-metadata>=4.8.0 in c:\\users\\19144\\anaconda4\\lib\\site-packages (from gym) (4.11.3)\n",
      "Requirement already satisfied: gym-notices>=0.0.4 in c:\\users\\19144\\anaconda4\\lib\\site-packages (from gym) (0.0.8)\n",
      "Requirement already satisfied: numpy>=1.18.0 in c:\\users\\19144\\anaconda4\\lib\\site-packages (from gym) (1.21.5)\n",
      "Requirement already satisfied: cloudpickle>=1.2.0 in c:\\users\\19144\\anaconda4\\lib\\site-packages (from gym) (2.0.0)\n",
      "Requirement already satisfied: zipp>=0.5 in c:\\users\\19144\\anaconda4\\lib\\site-packages (from importlib-metadata>=4.8.0->gym) (3.8.0)\n"
     ]
    }
   ],
   "source": [
    "!pip install gym"
   ]
  },
  {
   "cell_type": "code",
   "execution_count": 2,
   "id": "7204d54e",
   "metadata": {},
   "outputs": [
    {
     "name": "stdout",
     "output_type": "stream",
     "text": [
      "Collecting package metadata (current_repodata.json): ...working... done\n",
      "Solving environment: ...working... done\n",
      "\n",
      "# All requested packages already installed.\n",
      "\n",
      "\n",
      "Note: you may need to restart the kernel to use updated packages.\n"
     ]
    }
   ],
   "source": [
    "conda install pystan"
   ]
  },
  {
   "cell_type": "code",
   "execution_count": 3,
   "id": "7b0fdaba",
   "metadata": {},
   "outputs": [
    {
     "name": "stdout",
     "output_type": "stream",
     "text": [
      "Requirement already satisfied: gym[all] in c:\\users\\19144\\anaconda4\\lib\\site-packages (0.26.2)\n",
      "Requirement already satisfied: cloudpickle>=1.2.0 in c:\\users\\19144\\anaconda4\\lib\\site-packages (from gym[all]) (2.0.0)\n",
      "Requirement already satisfied: gym-notices>=0.0.4 in c:\\users\\19144\\anaconda4\\lib\\site-packages (from gym[all]) (0.0.8)\n",
      "Requirement already satisfied: importlib-metadata>=4.8.0 in c:\\users\\19144\\anaconda4\\lib\\site-packages (from gym[all]) (4.11.3)\n",
      "Requirement already satisfied: numpy>=1.18.0 in c:\\users\\19144\\anaconda4\\lib\\site-packages (from gym[all]) (1.21.5)\n",
      "Requirement already satisfied: imageio>=2.14.1 in c:\\users\\19144\\anaconda4\\lib\\site-packages (from gym[all]) (2.19.3)\n",
      "Requirement already satisfied: ale-py~=0.8.0 in c:\\users\\19144\\anaconda4\\lib\\site-packages (from gym[all]) (0.8.1)\n",
      "Requirement already satisfied: pytest==7.0.1 in c:\\users\\19144\\anaconda4\\lib\\site-packages (from gym[all]) (7.0.1)\n",
      "Requirement already satisfied: lz4>=3.1.0 in c:\\users\\19144\\anaconda4\\lib\\site-packages (from gym[all]) (3.1.3)\n",
      "Requirement already satisfied: swig==4.* in c:\\users\\19144\\anaconda4\\lib\\site-packages (from gym[all]) (4.1.1)\n",
      "Requirement already satisfied: moviepy>=1.0.0 in c:\\users\\19144\\anaconda4\\lib\\site-packages (from gym[all]) (1.0.3)\n",
      "Requirement already satisfied: mujoco-py<2.2,>=2.1 in c:\\users\\19144\\anaconda4\\lib\\site-packages (from gym[all]) (2.1.2.14)\n",
      "Requirement already satisfied: matplotlib>=3.0 in c:\\users\\19144\\anaconda4\\lib\\site-packages (from gym[all]) (3.5.2)\n",
      "Requirement already satisfied: box2d-py==2.3.5 in c:\\users\\19144\\anaconda4\\lib\\site-packages (from gym[all]) (2.3.5)\n",
      "Requirement already satisfied: opencv-python>=3.0 in c:\\users\\19144\\anaconda4\\lib\\site-packages (from gym[all]) (4.7.0.72)\n",
      "Requirement already satisfied: pygame==2.1.0 in c:\\users\\19144\\anaconda4\\lib\\site-packages (from gym[all]) (2.1.0)\n",
      "Requirement already satisfied: mujoco==2.2 in c:\\users\\19144\\anaconda4\\lib\\site-packages (from gym[all]) (2.2.0)\n",
      "Requirement already satisfied: glfw in c:\\users\\19144\\anaconda4\\lib\\site-packages (from mujoco==2.2->gym[all]) (2.5.6)\n",
      "Requirement already satisfied: absl-py in c:\\users\\19144\\appdata\\roaming\\python\\python39\\site-packages (from mujoco==2.2->gym[all]) (1.2.0)\n",
      "Requirement already satisfied: pyopengl in c:\\users\\19144\\anaconda4\\lib\\site-packages (from mujoco==2.2->gym[all]) (3.1.6)\n",
      "Requirement already satisfied: iniconfig in c:\\users\\19144\\anaconda4\\lib\\site-packages (from pytest==7.0.1->gym[all]) (1.1.1)\n",
      "Requirement already satisfied: py>=1.8.2 in c:\\users\\19144\\anaconda4\\lib\\site-packages (from pytest==7.0.1->gym[all]) (1.11.0)\n",
      "Requirement already satisfied: attrs>=19.2.0 in c:\\users\\19144\\anaconda4\\lib\\site-packages (from pytest==7.0.1->gym[all]) (21.4.0)\n",
      "Requirement already satisfied: pluggy<2.0,>=0.12 in c:\\users\\19144\\anaconda4\\lib\\site-packages (from pytest==7.0.1->gym[all]) (1.0.0)\n",
      "Requirement already satisfied: colorama in c:\\users\\19144\\anaconda4\\lib\\site-packages (from pytest==7.0.1->gym[all]) (0.4.5)\n",
      "Requirement already satisfied: tomli>=1.0.0 in c:\\users\\19144\\anaconda4\\lib\\site-packages (from pytest==7.0.1->gym[all]) (2.0.1)\n",
      "Requirement already satisfied: packaging in c:\\users\\19144\\anaconda4\\lib\\site-packages (from pytest==7.0.1->gym[all]) (21.3)\n",
      "Requirement already satisfied: atomicwrites>=1.0 in c:\\users\\19144\\anaconda4\\lib\\site-packages (from pytest==7.0.1->gym[all]) (1.4.0)\n",
      "Requirement already satisfied: importlib-resources in c:\\users\\19144\\anaconda4\\lib\\site-packages (from ale-py~=0.8.0->gym[all]) (5.12.0)\n",
      "Requirement already satisfied: typing-extensions in c:\\users\\19144\\anaconda4\\lib\\site-packages (from ale-py~=0.8.0->gym[all]) (4.3.0)\n",
      "Requirement already satisfied: pillow>=8.3.2 in c:\\users\\19144\\anaconda4\\lib\\site-packages (from imageio>=2.14.1->gym[all]) (9.2.0)\n",
      "Requirement already satisfied: zipp>=0.5 in c:\\users\\19144\\anaconda4\\lib\\site-packages (from importlib-metadata>=4.8.0->gym[all]) (3.8.0)\n",
      "Requirement already satisfied: python-dateutil>=2.7 in c:\\users\\19144\\anaconda4\\lib\\site-packages (from matplotlib>=3.0->gym[all]) (2.8.2)\n",
      "Requirement already satisfied: fonttools>=4.22.0 in c:\\users\\19144\\anaconda4\\lib\\site-packages (from matplotlib>=3.0->gym[all]) (4.25.0)\n",
      "Requirement already satisfied: kiwisolver>=1.0.1 in c:\\users\\19144\\anaconda4\\lib\\site-packages (from matplotlib>=3.0->gym[all]) (1.4.2)\n",
      "Requirement already satisfied: pyparsing>=2.2.1 in c:\\users\\19144\\anaconda4\\lib\\site-packages (from matplotlib>=3.0->gym[all]) (3.0.9)\n",
      "Requirement already satisfied: cycler>=0.10 in c:\\users\\19144\\anaconda4\\lib\\site-packages (from matplotlib>=3.0->gym[all]) (0.11.0)\n",
      "Requirement already satisfied: imageio-ffmpeg>=0.2.0 in c:\\users\\19144\\anaconda4\\lib\\site-packages (from moviepy>=1.0.0->gym[all]) (0.4.8)\n",
      "Requirement already satisfied: requests<3.0,>=2.8.1 in c:\\users\\19144\\anaconda4\\lib\\site-packages (from moviepy>=1.0.0->gym[all]) (2.28.1)\n",
      "Requirement already satisfied: decorator<5.0,>=4.0.2 in c:\\users\\19144\\anaconda4\\lib\\site-packages (from moviepy>=1.0.0->gym[all]) (4.4.2)\n",
      "Requirement already satisfied: proglog<=1.0.0 in c:\\users\\19144\\anaconda4\\lib\\site-packages (from moviepy>=1.0.0->gym[all]) (0.1.10)\n",
      "Requirement already satisfied: tqdm<5.0,>=4.11.2 in c:\\users\\19144\\anaconda4\\lib\\site-packages (from moviepy>=1.0.0->gym[all]) (4.64.1)\n",
      "Requirement already satisfied: Cython>=0.27.2 in c:\\users\\19144\\anaconda4\\lib\\site-packages (from mujoco-py<2.2,>=2.1->gym[all]) (0.29.32)\n",
      "Requirement already satisfied: cffi>=1.10 in c:\\users\\19144\\anaconda4\\lib\\site-packages (from mujoco-py<2.2,>=2.1->gym[all]) (1.15.1)\n",
      "Requirement already satisfied: fasteners~=0.15 in c:\\users\\19144\\anaconda4\\lib\\site-packages (from mujoco-py<2.2,>=2.1->gym[all]) (0.18)\n",
      "Requirement already satisfied: pycparser in c:\\users\\19144\\anaconda4\\lib\\site-packages (from cffi>=1.10->mujoco-py<2.2,>=2.1->gym[all]) (2.21)\n",
      "Requirement already satisfied: six>=1.5 in c:\\users\\19144\\anaconda4\\lib\\site-packages (from python-dateutil>=2.7->matplotlib>=3.0->gym[all]) (1.16.0)\n",
      "Requirement already satisfied: charset-normalizer<3,>=2 in c:\\users\\19144\\anaconda4\\lib\\site-packages (from requests<3.0,>=2.8.1->moviepy>=1.0.0->gym[all]) (2.0.4)\n",
      "Requirement already satisfied: urllib3<1.27,>=1.21.1 in c:\\users\\19144\\anaconda4\\lib\\site-packages (from requests<3.0,>=2.8.1->moviepy>=1.0.0->gym[all]) (1.26.11)\n",
      "Requirement already satisfied: idna<4,>=2.5 in c:\\users\\19144\\anaconda4\\lib\\site-packages (from requests<3.0,>=2.8.1->moviepy>=1.0.0->gym[all]) (3.3)\n",
      "Requirement already satisfied: certifi>=2017.4.17 in c:\\users\\19144\\anaconda4\\lib\\site-packages (from requests<3.0,>=2.8.1->moviepy>=1.0.0->gym[all]) (2022.9.14)\n",
      "Note: you may need to restart the kernel to use updated packages.\n"
     ]
    }
   ],
   "source": [
    "pip install gym[all]"
   ]
  },
  {
   "cell_type": "code",
   "execution_count": 4,
   "id": "af075ed8",
   "metadata": {},
   "outputs": [
    {
     "data": {
      "text/plain": [
       "Discrete(4)"
      ]
     },
     "execution_count": 4,
     "metadata": {},
     "output_type": "execute_result"
    }
   ],
   "source": [
    "import gym\n",
    "import time\n",
    "env=gym.make(\"FrozenLake-v1\", render_mode=\"human\")\n",
    "env.reset()\n",
    "# render the environment\n",
    "env.observation_space\n",
    "#Actions - left -0, down - 1, right - 2, up - 3\n",
    "env.action_space"
   ]
  },
  {
   "cell_type": "code",
   "execution_count": 5,
   "id": "c178f8b5",
   "metadata": {},
   "outputs": [],
   "source": [
    "#generate random action\n",
    "randomAction= env.action_space.sample()\n",
    "returnValue = env.step(randomAction)\n",
    "# format of returnValue is (observation,reward, terminated, truncated, info)\n",
    "# observation (object)  - observed state\n",
    "# reward (float)        - reward that is the result of taking the action\n",
    "# terminated (bool)     - is it a terminal state\n",
    "# truncated (bool)      - it is not important in our case\n",
    "# info (dictionary)     - in our case transition probability\n"
   ]
  },
  {
   "cell_type": "code",
   "execution_count": 6,
   "id": "2e43f642",
   "metadata": {},
   "outputs": [
    {
     "data": {
      "text/plain": [
       "Discrete(16)"
      ]
     },
     "execution_count": 6,
     "metadata": {},
     "output_type": "execute_result"
    }
   ],
   "source": [
    "#Observation space - states\n",
    "env.observation_space\n",
    "#16 states are available to us"
   ]
  },
  {
   "cell_type": "code",
   "execution_count": 7,
   "id": "20224fb8",
   "metadata": {},
   "outputs": [],
   "source": [
    "#generate random action\n",
    "randomAction=env.action_space.sample()"
   ]
  },
  {
   "cell_type": "code",
   "execution_count": 8,
   "id": "234e7d25",
   "metadata": {},
   "outputs": [],
   "source": [
    "returnValue = env.step(randomAction)"
   ]
  },
  {
   "cell_type": "code",
   "execution_count": 9,
   "id": "c1ef00ba",
   "metadata": {},
   "outputs": [],
   "source": [
    "#Perform deterministic step 0, 1, 2, 3\n",
    "returnValue= env.step(2)"
   ]
  },
  {
   "cell_type": "code",
   "execution_count": 10,
   "id": "408250b1",
   "metadata": {},
   "outputs": [
    {
     "data": {
      "text/plain": [
       "(0, {'prob': 1})"
      ]
     },
     "execution_count": 10,
     "metadata": {},
     "output_type": "execute_result"
    }
   ],
   "source": [
    "#Reset the environment\n",
    "env.reset()"
   ]
  },
  {
   "cell_type": "code",
   "execution_count": 11,
   "id": "988412fc",
   "metadata": {},
   "outputs": [
    {
     "data": {
      "text/plain": [
       "[(0.3333333333333333, 0, 0.0, False),\n",
       " (0.3333333333333333, 4, 0.0, False),\n",
       " (0.3333333333333333, 1, 0.0, False)]"
      ]
     },
     "execution_count": 11,
     "metadata": {},
     "output_type": "execute_result"
    }
   ],
   "source": [
    " #env.P[state][action]\n",
    "env.P[0][1]\n",
    "#transition probability, next state, reward, is this a terminal state(boolean value)?"
   ]
  },
  {
   "cell_type": "code",
   "execution_count": null,
   "id": "e7e3288a",
   "metadata": {},
   "outputs": [],
   "source": []
  }
 ],
 "metadata": {
  "kernelspec": {
   "display_name": "Python 3 (ipykernel)",
   "language": "python",
   "name": "python3"
  },
  "language_info": {
   "codemirror_mode": {
    "name": "ipython",
    "version": 3
   },
   "file_extension": ".py",
   "mimetype": "text/x-python",
   "name": "python",
   "nbconvert_exporter": "python",
   "pygments_lexer": "ipython3",
   "version": "3.9.13"
  }
 },
 "nbformat": 4,
 "nbformat_minor": 5
}
